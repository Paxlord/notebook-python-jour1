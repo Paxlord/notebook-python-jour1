{
 "cells": [
  {
   "cell_type": "markdown",
   "metadata": {},
   "source": [
    "# -2) imports"
   ]
  },
  {
   "cell_type": "code",
   "execution_count": 7,
   "metadata": {},
   "outputs": [],
   "source": [
    "import random\n",
    "import string"
   ]
  },
  {
   "cell_type": "markdown",
   "metadata": {},
   "source": [
    "# -1) fonction personnelles"
   ]
  },
  {
   "cell_type": "code",
   "execution_count": 86,
   "metadata": {},
   "outputs": [],
   "source": [
    "def push(message):\n",
    "    \"\"\"\n",
    "    Save current notebook and push whole current dir to origin/master\n",
    "    \n",
    "    Param:\n",
    "        message : str \n",
    "            Commit's message\n",
    "    \n",
    "    Return:\n",
    "        None\n",
    "    \"\"\"\n",
    "    assert(len(message.strip())>10)\n",
    "    import subprocess\n",
    "    from IPython.display import display, Javascript\n",
    "    \n",
    "    cmds = [  \"git add .\",\n",
    "              \"git commit -m \", \n",
    "              \"git push\"]\n",
    "    \n",
    "    # save current notebook\n",
    "    display(Javascript('IPython.notebook.save_checkpoint();'))\n",
    "    for cmd in cmds:\n",
    "        cmd = cmd.split()\n",
    "        if \"commit\" in cmd: \n",
    "            cmd.append( f\"'{message}'\") \n",
    "        print(\" \".join(cmd))\n",
    "        subprocess.check_output(cmd)\n",
    "    print(\"Fini.\")"
   ]
  },
  {
   "cell_type": "markdown",
   "metadata": {},
   "source": [
    "# 1) exercices sur les listes"
   ]
  },
  {
   "cell_type": "markdown",
   "metadata": {},
   "source": [
    "## 1.1) calculer la somme des carrés d'une liste\n",
    "utiliser la fonction **sum ( [] )**\n"
   ]
  },
  {
   "cell_type": "code",
   "execution_count": 2,
   "metadata": {},
   "outputs": [
    {
     "name": "stdout",
     "output_type": "stream",
     "text": [
      "55\n"
     ]
    }
   ],
   "source": [
    "nombres = [1,2,3,4,5]\n",
    "\n",
    "print(sum([i*i for i in nombres]))"
   ]
  },
  {
   "cell_type": "markdown",
   "metadata": {},
   "source": [
    "## 1.2) liste de dictionnaire"
   ]
  },
  {
   "cell_type": "code",
   "execution_count": 8,
   "metadata": {},
   "outputs": [],
   "source": [
    "\n",
    "def get_name():\n",
    "    return random.choice([\"Dalton\", \"Luke\", \"Cherif\"])\n",
    "def get_uid():\n",
    "    return random.randint(100, 10000)\n",
    "def get_surname():\n",
    "    return random.choice([\"Joe\",\"William\",\"Jack\",\"Averell\"])\n",
    "def get_dict():\n",
    "    return {\"nom\": get_name(), \"prenom\":get_surname(), \"uid\":get_uid()}"
   ]
  },
  {
   "cell_type": "markdown",
   "metadata": {},
   "source": [
    "## Créez une liste de 10 dictionnaires\n",
    "utilisez get_dict()"
   ]
  },
  {
   "cell_type": "code",
   "execution_count": 12,
   "metadata": {},
   "outputs": [
    {
     "name": "stdout",
     "output_type": "stream",
     "text": [
      "[{'nom': 'Cherif', 'prenom': 'Jack', 'uid': 6445}, {'nom': 'Luke', 'prenom': 'Averell', 'uid': 8685}, {'nom': 'Dalton', 'prenom': 'Jack', 'uid': 3976}, {'nom': 'Cherif', 'prenom': 'Joe', 'uid': 9919}, {'nom': 'Dalton', 'prenom': 'Joe', 'uid': 2084}, {'nom': 'Luke', 'prenom': 'Joe', 'uid': 4235}, {'nom': 'Luke', 'prenom': 'Joe', 'uid': 2968}, {'nom': 'Luke', 'prenom': 'Jack', 'uid': 9885}, {'nom': 'Cherif', 'prenom': 'Averell', 'uid': 1267}]\n"
     ]
    }
   ],
   "source": [
    "liste = [get_dict() for i in range(9)]\n",
    "print(liste)"
   ]
  },
  {
   "cell_type": "markdown",
   "metadata": {},
   "source": [
    "## 1.2 bis) trier la liste par nom\n",
    "utiliser sorted & itemgetter"
   ]
  },
  {
   "cell_type": "code",
   "execution_count": 18,
   "metadata": {},
   "outputs": [
    {
     "name": "stdout",
     "output_type": "stream",
     "text": [
      "[{'nom': 'Cherif', 'prenom': 'Jack', 'uid': 6445}, {'nom': 'Cherif', 'prenom': 'Joe', 'uid': 9919}, {'nom': 'Cherif', 'prenom': 'Averell', 'uid': 1267}, {'nom': 'Dalton', 'prenom': 'Jack', 'uid': 3976}, {'nom': 'Dalton', 'prenom': 'Joe', 'uid': 2084}, {'nom': 'Luke', 'prenom': 'Averell', 'uid': 8685}, {'nom': 'Luke', 'prenom': 'Joe', 'uid': 4235}, {'nom': 'Luke', 'prenom': 'Joe', 'uid': 2968}, {'nom': 'Luke', 'prenom': 'Jack', 'uid': 9885}]\n"
     ]
    }
   ],
   "source": [
    "from operator import itemgetter\n",
    "\n",
    "sorted_list = sorted(liste, key=itemgetter('nom'))\n",
    "print(sorted_list)"
   ]
  },
  {
   "cell_type": "markdown",
   "metadata": {},
   "source": [
    "## 1.3) grouper les éléments par nom\n",
    "utiliser itemgetter and groupby"
   ]
  },
  {
   "cell_type": "code",
   "execution_count": 20,
   "metadata": {},
   "outputs": [],
   "source": [
    "from itertools import groupby"
   ]
  },
  {
   "cell_type": "code",
   "execution_count": 32,
   "metadata": {},
   "outputs": [
    {
     "name": "stdout",
     "output_type": "stream",
     "text": [
      "[[{'nom': 'Cherif', 'prenom': 'Jack', 'uid': 6445}, {'nom': 'Cherif', 'prenom': 'Joe', 'uid': 9919}, {'nom': 'Cherif', 'prenom': 'Averell', 'uid': 1267}], [{'nom': 'Dalton', 'prenom': 'Jack', 'uid': 3976}, {'nom': 'Dalton', 'prenom': 'Joe', 'uid': 2084}], [{'nom': 'Luke', 'prenom': 'Averell', 'uid': 8685}, {'nom': 'Luke', 'prenom': 'Joe', 'uid': 4235}, {'nom': 'Luke', 'prenom': 'Joe', 'uid': 2968}, {'nom': 'Luke', 'prenom': 'Jack', 'uid': 9885}]]\n"
     ]
    }
   ],
   "source": [
    "print([list(g) for k,g in groupby(sorted_list, key=itemgetter('nom'))])"
   ]
  },
  {
   "cell_type": "markdown",
   "metadata": {},
   "source": [
    "# 2) Exercices sur les dictionnaires"
   ]
  },
  {
   "cell_type": "code",
   "execution_count": 34,
   "metadata": {},
   "outputs": [
    {
     "data": {
      "text/plain": [
       "{'UCH': 13,\n",
       " 'OTR': 37,\n",
       " 'AFX': 96,\n",
       " 'MPR': 35,\n",
       " 'ZZR': 24,\n",
       " 'CQE': 10,\n",
       " 'ZQS': 73,\n",
       " 'CMF': 27,\n",
       " 'PIY': 69,\n",
       " 'QCN': 27}"
      ]
     },
     "execution_count": 34,
     "metadata": {},
     "output_type": "execute_result"
    }
   ],
   "source": [
    "def get_3_car():\n",
    "    return \"\".join([random.choice(string.ascii_uppercase) for _ in range(3)])\n",
    "\n",
    "def random_value():\n",
    "    return random.randint(10,100)\n",
    "\n",
    "def get_stock():\n",
    "    return {get_3_car() : random_value()}\n",
    "\n",
    "result = {}\n",
    "[result.update(get_stock()) for i in range(10)];\n",
    "result"
   ]
  },
  {
   "cell_type": "markdown",
   "metadata": {},
   "source": [
    "## 2.1) Extraire un sous dictionnaire de result ne contenant que les valeurs supérieures à 30"
   ]
  },
  {
   "cell_type": "code",
   "execution_count": 35,
   "metadata": {},
   "outputs": [
    {
     "data": {
      "text/plain": [
       "{'OTR': 37, 'AFX': 96, 'MPR': 35, 'ZQS': 73, 'PIY': 69}"
      ]
     },
     "execution_count": 35,
     "metadata": {},
     "output_type": "execute_result"
    }
   ],
   "source": [
    "dico_sup_30= { k:result[k] for k in result if result[k]>30 }\n",
    "dico_sup_30"
   ]
  },
  {
   "cell_type": "markdown",
   "metadata": {},
   "source": [
    "## 2.2) créer deux dictionnaires, contenant chacun la 70% de result\n",
    "on les appellera dico_1 et dico_2"
   ]
  },
  {
   "cell_type": "code",
   "execution_count": 52,
   "metadata": {},
   "outputs": [
    {
     "name": "stdout",
     "output_type": "stream",
     "text": [
      "{'ZZR': 24, 'QCN': 27, 'PIY': 69, 'CQE': 10}\n",
      "{'CMF': 27, 'CQE': 10, 'PIY': 69, 'ZQS': 73, 'MPR': 35}\n"
     ]
    }
   ],
   "source": [
    "liste_1 = [ random.choice(list(result.keys())) for k in range(7)]\n",
    "dico_1 =  { k:result[k] for k in liste_1 }\n",
    "\n",
    "liste_2 = [ random.choice(list(result.keys())) for k in range(7)]\n",
    "dico_2 =  { k:result[k] for k in liste_2 }\n",
    "\n",
    "print(dico_1)\n",
    "print(dico_2)"
   ]
  },
  {
   "cell_type": "markdown",
   "metadata": {},
   "source": [
    "## 2.3)   trouver les clefs en commun de dico_1 et dico_2\n",
    "utilisez l'éperluette"
   ]
  },
  {
   "cell_type": "code",
   "execution_count": 55,
   "metadata": {},
   "outputs": [
    {
     "name": "stdout",
     "output_type": "stream",
     "text": [
      "{'CQE', 'PIY'}\n"
     ]
    }
   ],
   "source": [
    "print(dico_1.keys()&dico_2.keys())"
   ]
  },
  {
   "cell_type": "markdown",
   "metadata": {},
   "source": [
    "## 2.4) trouvez les clefs qui sont dans dico_1 et pas dans dico_2\n",
    "utilisez le -"
   ]
  },
  {
   "cell_type": "code",
   "execution_count": 56,
   "metadata": {},
   "outputs": [
    {
     "name": "stdout",
     "output_type": "stream",
     "text": [
      "{'QCN', 'ZZR'}\n"
     ]
    }
   ],
   "source": [
    "print(dico_1.keys()-dico_2.keys())"
   ]
  },
  {
   "cell_type": "markdown",
   "metadata": {},
   "source": [
    "## 2.5) trouver les couples  k:v communs aux deux  dico\n",
    "utilisez l'éperluette"
   ]
  },
  {
   "cell_type": "code",
   "execution_count": 57,
   "metadata": {},
   "outputs": [
    {
     "name": "stdout",
     "output_type": "stream",
     "text": [
      "{'CQE': 10, 'PIY': 69}\n"
     ]
    }
   ],
   "source": [
    "common_keys = dico_1.keys()&dico_2.keys()\n",
    "\n",
    "print({ k:result[k] for k in common_keys })"
   ]
  },
  {
   "cell_type": "markdown",
   "metadata": {},
   "source": [
    "# 3) string "
   ]
  },
  {
   "cell_type": "markdown",
   "metadata": {},
   "source": [
    "## 3.1) lister les fichiers de type \"ipynb\"\n",
    "utilisez startswith / endswith "
   ]
  },
  {
   "cell_type": "code",
   "execution_count": 72,
   "metadata": {},
   "outputs": [
    {
     "data": {
      "text/plain": [
       "['.git',\n",
       " '.ipynb_checkpoints',\n",
       " 'exercices_par_fares.ipynb',\n",
       " 'Exo_Notebook.ipynb',\n",
       " 'Farès_NoteBook1.ipynb',\n",
       " 'jour_2_exercices_du_matin.ipynb',\n",
       " 'notebook_1_bases_de_python.ipynb',\n",
       " 'README.md',\n",
       " 'romain_notebook_1.ipynb',\n",
       " 'test.txt',\n",
       " '__pycache__']"
      ]
     },
     "execution_count": 72,
     "metadata": {},
     "output_type": "execute_result"
    }
   ],
   "source": [
    "import os\n",
    "fichiers = os.listdir(\".\")\n",
    "fichiers"
   ]
  },
  {
   "cell_type": "code",
   "execution_count": 70,
   "metadata": {},
   "outputs": [],
   "source": [
    "with open(\"test.txt\", 'a') as f:\n",
    "    pass\n",
    "    "
   ]
  },
  {
   "cell_type": "code",
   "execution_count": 60,
   "metadata": {},
   "outputs": [
    {
     "data": {
      "text/plain": [
       "['exercices_par_fares.ipynb',\n",
       " 'Exo_Notebook.ipynb',\n",
       " 'Farès_NoteBook1.ipynb',\n",
       " 'jour_2_exercices_du_matin.ipynb',\n",
       " 'notebook_1_bases_de_python.ipynb',\n",
       " 'romain_notebook_1.ipynb']"
      ]
     },
     "execution_count": 60,
     "metadata": {},
     "output_type": "execute_result"
    }
   ],
   "source": [
    "liste = [i  for i in fichiers if i.endswith('.ipynb')]\n",
    "liste"
   ]
  },
  {
   "cell_type": "markdown",
   "metadata": {},
   "source": [
    "## 3.2) liste les \"ipynb\" ou les \".md\" (d'un coup)\n",
    "Passez un tuple à endswith"
   ]
  },
  {
   "cell_type": "code",
   "execution_count": 62,
   "metadata": {},
   "outputs": [
    {
     "data": {
      "text/plain": [
       "['exercices_par_fares.ipynb',\n",
       " 'Exo_Notebook.ipynb',\n",
       " 'Farès_NoteBook1.ipynb',\n",
       " 'jour_2_exercices_du_matin.ipynb',\n",
       " 'notebook_1_bases_de_python.ipynb',\n",
       " 'README.md',\n",
       " 'romain_notebook_1.ipynb']"
      ]
     },
     "execution_count": 62,
     "metadata": {},
     "output_type": "execute_result"
    }
   ],
   "source": [
    "liste_tuple = [i  for i in fichiers if i.endswith(('.ipynb', '.md'))]\n",
    "liste_tuple"
   ]
  },
  {
   "cell_type": "markdown",
   "metadata": {},
   "source": [
    "## 3.3) Wildcard patterns => fnmatch "
   ]
  },
  {
   "cell_type": "code",
   "execution_count": 64,
   "metadata": {},
   "outputs": [
    {
     "data": {
      "text/plain": [
       "True"
      ]
     },
     "execution_count": 64,
     "metadata": {},
     "output_type": "execute_result"
    }
   ],
   "source": [
    "from fnmatch import fnmatch\n",
    "fnmatch(\"foo.txt\", \"*.txt\")"
   ]
  },
  {
   "cell_type": "markdown",
   "metadata": {},
   "source": [
    "### 3.3 bis) listez les fichiers comprenant \"*.txt\""
   ]
  },
  {
   "cell_type": "code",
   "execution_count": 73,
   "metadata": {},
   "outputs": [
    {
     "data": {
      "text/plain": [
       "['test.txt']"
      ]
     },
     "execution_count": 73,
     "metadata": {},
     "output_type": "execute_result"
    }
   ],
   "source": [
    "liste_fnmatch = [ i for i in fichiers if fnmatch(i, '*.txt')]\n",
    "liste_fnmatch"
   ]
  },
  {
   "cell_type": "code",
   "execution_count": 80,
   "metadata": {},
   "outputs": [],
   "source": [
    "import regex as re"
   ]
  },
  {
   "cell_type": "markdown",
   "metadata": {},
   "source": [
    "### 3.3 ter) listez les fichiers comprenant deux \"oo\" en utilisant les wildcard"
   ]
  },
  {
   "cell_type": "code",
   "execution_count": 81,
   "metadata": {},
   "outputs": [
    {
     "data": {
      "text/plain": [
       "['Exo_Notebook.ipynb',\n",
       " 'Farès_NoteBook1.ipynb',\n",
       " 'notebook_1_bases_de_python.ipynb',\n",
       " 'romain_notebook_1.ipynb']"
      ]
     },
     "execution_count": 81,
     "metadata": {},
     "output_type": "execute_result"
    }
   ],
   "source": [
    "liste_fnmatch_oo = [ i for i in fichiers if re.search(\"oo\", i)]\n",
    "liste_fnmatch_oo"
   ]
  },
  {
   "cell_type": "markdown",
   "metadata": {},
   "source": [
    "## 3.4) fonction replace(mot, mot)"
   ]
  },
  {
   "cell_type": "code",
   "execution_count": 82,
   "metadata": {},
   "outputs": [],
   "source": [
    "texte = \"\"\"\n",
    "Alice's Adventures in Wonderland (commonly shortened to Alice in Wonderland) is an 1865 novel by English author Lewis Carroll (the pseudonym of Charles Dodgson).[1] It tells of a young girl named Alice, who falls through a rabbit hole into a subterranean fantasy world populated by peculiar, anthropomorphic creatures. It is considered to be one of the best examples of the literary nonsense genre.[2][3] The tale plays with logic, giving the story lasting popularity with adults as well as with children.[2]\n",
    "\"\"\""
   ]
  },
  {
   "cell_type": "markdown",
   "metadata": {},
   "source": [
    "### Remplacez Alice par Picsou"
   ]
  },
  {
   "cell_type": "code",
   "execution_count": 84,
   "metadata": {},
   "outputs": [
    {
     "data": {
      "text/plain": [
       "\"\\nPicsou's Adventures in Wonderland (commonly shortened to Picsou in Wonderland) is an 1865 novel by English author Lewis Carroll (the pseudonym of Charles Dodgson).[1] It tells of a young girl named Picsou, who falls through a rabbit hole into a subterranean fantasy world populated by peculiar, anthropomorphic creatures. It is considered to be one of the best examples of the literary nonsense genre.[2][3] The tale plays with logic, giving the story lasting popularity with adults as well as with children.[2]\\n\""
      ]
     },
     "execution_count": 84,
     "metadata": {},
     "output_type": "execute_result"
    }
   ],
   "source": [
    "texte = texte.replace(\"Alice\", \"Picsou\")\n",
    "texte"
   ]
  },
  {
   "cell_type": "code",
   "execution_count": 87,
   "metadata": {},
   "outputs": [
    {
     "data": {
      "application/javascript": [
       "IPython.notebook.save_checkpoint();"
      ],
      "text/plain": [
       "<IPython.core.display.Javascript object>"
      ]
     },
     "metadata": {},
     "output_type": "display_data"
    },
    {
     "name": "stdout",
     "output_type": "stream",
     "text": [
      "git add .\n",
      "git commit -m 'Exemples d'exercices'\n",
      "git push\n"
     ]
    },
    {
     "ename": "CalledProcessError",
     "evalue": "Command '['git', 'push']' returned non-zero exit status 128.",
     "output_type": "error",
     "traceback": [
      "\u001b[1;31m---------------------------------------------------------------------------\u001b[0m",
      "\u001b[1;31mCalledProcessError\u001b[0m                        Traceback (most recent call last)",
      "\u001b[1;32m<ipython-input-87-e9c4463d7a8c>\u001b[0m in \u001b[0;36m<module>\u001b[1;34m\u001b[0m\n\u001b[1;32m----> 1\u001b[1;33m \u001b[0mpush\u001b[0m\u001b[1;33m(\u001b[0m\u001b[1;34m\"Exemples d'exercices\"\u001b[0m\u001b[1;33m)\u001b[0m\u001b[1;33m\u001b[0m\u001b[1;33m\u001b[0m\u001b[0m\n\u001b[0m",
      "\u001b[1;32m<ipython-input-86-1a815036b812>\u001b[0m in \u001b[0;36mpush\u001b[1;34m(message)\u001b[0m\n\u001b[0;32m     25\u001b[0m             \u001b[0mcmd\u001b[0m\u001b[1;33m.\u001b[0m\u001b[0mappend\u001b[0m\u001b[1;33m(\u001b[0m \u001b[1;34mf\"'{message}'\"\u001b[0m\u001b[1;33m)\u001b[0m\u001b[1;33m\u001b[0m\u001b[1;33m\u001b[0m\u001b[0m\n\u001b[0;32m     26\u001b[0m         \u001b[0mprint\u001b[0m\u001b[1;33m(\u001b[0m\u001b[1;34m\" \"\u001b[0m\u001b[1;33m.\u001b[0m\u001b[0mjoin\u001b[0m\u001b[1;33m(\u001b[0m\u001b[0mcmd\u001b[0m\u001b[1;33m)\u001b[0m\u001b[1;33m)\u001b[0m\u001b[1;33m\u001b[0m\u001b[1;33m\u001b[0m\u001b[0m\n\u001b[1;32m---> 27\u001b[1;33m         \u001b[0msubprocess\u001b[0m\u001b[1;33m.\u001b[0m\u001b[0mcheck_output\u001b[0m\u001b[1;33m(\u001b[0m\u001b[0mcmd\u001b[0m\u001b[1;33m)\u001b[0m\u001b[1;33m\u001b[0m\u001b[1;33m\u001b[0m\u001b[0m\n\u001b[0m\u001b[0;32m     28\u001b[0m     \u001b[0mprint\u001b[0m\u001b[1;33m(\u001b[0m\u001b[1;34m\"Fini.\"\u001b[0m\u001b[1;33m)\u001b[0m\u001b[1;33m\u001b[0m\u001b[1;33m\u001b[0m\u001b[0m\n",
      "\u001b[1;32mZ:\\anaconda3\\lib\\subprocess.py\u001b[0m in \u001b[0;36mcheck_output\u001b[1;34m(timeout, *popenargs, **kwargs)\u001b[0m\n\u001b[0;32m    409\u001b[0m         \u001b[0mkwargs\u001b[0m\u001b[1;33m[\u001b[0m\u001b[1;34m'input'\u001b[0m\u001b[1;33m]\u001b[0m \u001b[1;33m=\u001b[0m \u001b[1;34m''\u001b[0m \u001b[1;32mif\u001b[0m \u001b[0mkwargs\u001b[0m\u001b[1;33m.\u001b[0m\u001b[0mget\u001b[0m\u001b[1;33m(\u001b[0m\u001b[1;34m'universal_newlines'\u001b[0m\u001b[1;33m,\u001b[0m \u001b[1;32mFalse\u001b[0m\u001b[1;33m)\u001b[0m \u001b[1;32melse\u001b[0m \u001b[1;34mb''\u001b[0m\u001b[1;33m\u001b[0m\u001b[1;33m\u001b[0m\u001b[0m\n\u001b[0;32m    410\u001b[0m \u001b[1;33m\u001b[0m\u001b[0m\n\u001b[1;32m--> 411\u001b[1;33m     return run(*popenargs, stdout=PIPE, timeout=timeout, check=True,\n\u001b[0m\u001b[0;32m    412\u001b[0m                **kwargs).stdout\n\u001b[0;32m    413\u001b[0m \u001b[1;33m\u001b[0m\u001b[0m\n",
      "\u001b[1;32mZ:\\anaconda3\\lib\\subprocess.py\u001b[0m in \u001b[0;36mrun\u001b[1;34m(input, capture_output, timeout, check, *popenargs, **kwargs)\u001b[0m\n\u001b[0;32m    510\u001b[0m         \u001b[0mretcode\u001b[0m \u001b[1;33m=\u001b[0m \u001b[0mprocess\u001b[0m\u001b[1;33m.\u001b[0m\u001b[0mpoll\u001b[0m\u001b[1;33m(\u001b[0m\u001b[1;33m)\u001b[0m\u001b[1;33m\u001b[0m\u001b[1;33m\u001b[0m\u001b[0m\n\u001b[0;32m    511\u001b[0m         \u001b[1;32mif\u001b[0m \u001b[0mcheck\u001b[0m \u001b[1;32mand\u001b[0m \u001b[0mretcode\u001b[0m\u001b[1;33m:\u001b[0m\u001b[1;33m\u001b[0m\u001b[1;33m\u001b[0m\u001b[0m\n\u001b[1;32m--> 512\u001b[1;33m             raise CalledProcessError(retcode, process.args,\n\u001b[0m\u001b[0;32m    513\u001b[0m                                      output=stdout, stderr=stderr)\n\u001b[0;32m    514\u001b[0m     \u001b[1;32mreturn\u001b[0m \u001b[0mCompletedProcess\u001b[0m\u001b[1;33m(\u001b[0m\u001b[0mprocess\u001b[0m\u001b[1;33m.\u001b[0m\u001b[0margs\u001b[0m\u001b[1;33m,\u001b[0m \u001b[0mretcode\u001b[0m\u001b[1;33m,\u001b[0m \u001b[0mstdout\u001b[0m\u001b[1;33m,\u001b[0m \u001b[0mstderr\u001b[0m\u001b[1;33m)\u001b[0m\u001b[1;33m\u001b[0m\u001b[1;33m\u001b[0m\u001b[0m\n",
      "\u001b[1;31mCalledProcessError\u001b[0m: Command '['git', 'push']' returned non-zero exit status 128."
     ]
    }
   ],
   "source": [
    "push(\"Exemples d'exercices\")"
   ]
  },
  {
   "cell_type": "code",
   "execution_count": null,
   "metadata": {},
   "outputs": [],
   "source": []
  }
 ],
 "metadata": {
  "kernelspec": {
   "display_name": "Python 3",
   "language": "python",
   "name": "python3"
  },
  "language_info": {
   "codemirror_mode": {
    "name": "ipython",
    "version": 3
   },
   "file_extension": ".py",
   "mimetype": "text/x-python",
   "name": "python",
   "nbconvert_exporter": "python",
   "pygments_lexer": "ipython3",
   "version": "3.8.5"
  }
 },
 "nbformat": 4,
 "nbformat_minor": 4
}
